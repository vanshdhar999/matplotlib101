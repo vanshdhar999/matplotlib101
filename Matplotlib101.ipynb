{
  "nbformat": 4,
  "nbformat_minor": 0,
  "metadata": {
    "colab": {
      "provenance": [],
      "authorship_tag": "ABX9TyNTBSh65xnwQb1I0IopvoPq",
      "include_colab_link": true
    },
    "kernelspec": {
      "name": "python3",
      "display_name": "Python 3"
    },
    "language_info": {
      "name": "python"
    }
  },
  "cells": [
    {
      "cell_type": "markdown",
      "metadata": {
        "id": "view-in-github",
        "colab_type": "text"
      },
      "source": [
        "<a href=\"https://colab.research.google.com/github/vanshdhar999/matplotlib101/blob/main/Matplotlib101.ipynb\" target=\"_parent\"><img src=\"https://colab.research.google.com/assets/colab-badge.svg\" alt=\"Open In Colab\"/></a>"
      ]
    },
    {
      "cell_type": "markdown",
      "source": [
        "### This is a introduction to matplotlib library for data visualization.\n",
        "###This notebook contains the basics of matplotlib for data science and visualization.\n",
        "\n",
        "# Video Link : https://www.youtube.com/watch?v=3Xc3CA655Y4\n",
        "# Find the notebook in github repo:"
      ],
      "metadata": {
        "id": "IJH4ORmLsFaJ"
      }
    },
    {
      "cell_type": "code",
      "source": [],
      "metadata": {
        "id": "_ImBDvu6sU19"
      },
      "execution_count": null,
      "outputs": []
    }
  ]
}